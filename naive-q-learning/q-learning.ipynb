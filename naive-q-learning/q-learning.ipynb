{
 "cells": [
  {
   "cell_type": "markdown",
   "metadata": {},
   "source": [
    "# Reinforcement Learning: Q-learning"
   ]
  },
  {
   "cell_type": "markdown",
   "metadata": {},
   "source": [
    "This example is based on FrozenLake Game from Gym environement. <br>\n",
    "More information here: <br>\n",
    "https://gym.openai.com/envs/FrozenLake-v0/"
   ]
  },
  {
   "cell_type": "code",
   "execution_count": 33,
   "metadata": {},
   "outputs": [],
   "source": [
    "import numpy as np\n",
    "import gym\n",
    "import random\n",
    "from ipywidgets import interact, interactive, fixed, interact_manual\n",
    "import ipywidgets as widgets\n",
    "from IPython.display import clear_output\n",
    "from matplotlib import pyplot as plt"
   ]
  },
  {
   "cell_type": "markdown",
   "metadata": {},
   "source": [
    "Load game environment"
   ]
  },
  {
   "cell_type": "code",
   "execution_count": 2,
   "metadata": {},
   "outputs": [],
   "source": [
    "env = gym.make(\"FrozenLake-v0\")\n",
    "\n",
    "action_size = env.action_space.n # Number of Actions : 4\n",
    "state_size = env.observation_space.n # Number of States: 16"
   ]
  },
  {
   "cell_type": "markdown",
   "metadata": {},
   "source": [
    "Q-Table initialization (16x4)"
   ]
  },
  {
   "cell_type": "code",
   "execution_count": 3,
   "metadata": {
    "scrolled": true
   },
   "outputs": [
    {
     "name": "stdout",
     "output_type": "stream",
     "text": [
      "[[0. 0. 0. 0.]\n",
      " [0. 0. 0. 0.]\n",
      " [0. 0. 0. 0.]\n",
      " [0. 0. 0. 0.]\n",
      " [0. 0. 0. 0.]\n",
      " [0. 0. 0. 0.]\n",
      " [0. 0. 0. 0.]\n",
      " [0. 0. 0. 0.]\n",
      " [0. 0. 0. 0.]\n",
      " [0. 0. 0. 0.]\n",
      " [0. 0. 0. 0.]\n",
      " [0. 0. 0. 0.]\n",
      " [0. 0. 0. 0.]\n",
      " [0. 0. 0. 0.]\n",
      " [0. 0. 0. 0.]\n",
      " [0. 0. 0. 0.]]\n"
     ]
    }
   ],
   "source": [
    "Q = np.zeros((state_size, action_size))\n",
    "print(Q)"
   ]
  },
  {
   "cell_type": "markdown",
   "metadata": {},
   "source": [
    "Hyperparameters"
   ]
  },
  {
   "cell_type": "code",
   "execution_count": 48,
   "metadata": {
    "scrolled": true
   },
   "outputs": [
    {
     "name": "stdout",
     "output_type": "stream",
     "text": [
      "Learning rate:\n"
     ]
    },
    {
     "data": {
      "application/vnd.jupyter.widget-view+json": {
       "model_id": "dc1a4779c7634020b20091ec69eb17ea",
       "version_major": 2,
       "version_minor": 0
      },
      "text/plain": [
       "FloatSlider(value=0.8, max=1.0, step=0.01)"
      ]
     },
     "metadata": {},
     "output_type": "display_data"
    },
    {
     "name": "stdout",
     "output_type": "stream",
     "text": [
      "Gamma:\n"
     ]
    },
    {
     "data": {
      "application/vnd.jupyter.widget-view+json": {
       "model_id": "c31680bfbc4b4a6c865bc17bd9ff6cc0",
       "version_major": 2,
       "version_minor": 0
      },
      "text/plain": [
       "FloatSlider(value=0.95, max=1.0, step=0.01)"
      ]
     },
     "metadata": {},
     "output_type": "display_data"
    },
    {
     "name": "stdout",
     "output_type": "stream",
     "text": [
      "Epsilon, Eploration vs Exploitation ratio\n"
     ]
    },
    {
     "data": {
      "application/vnd.jupyter.widget-view+json": {
       "model_id": "acc808cb873b4a8e89c12399f7e403c6",
       "version_major": 2,
       "version_minor": 0
      },
      "text/plain": [
       "FloatSlider(value=1.0, max=1.0, step=0.01)"
      ]
     },
     "metadata": {},
     "output_type": "display_data"
    },
    {
     "name": "stdout",
     "output_type": "stream",
     "text": [
      "Total Number of Episode:\n"
     ]
    },
    {
     "data": {
      "application/vnd.jupyter.widget-view+json": {
       "model_id": "58af7c92f3304b619f4d4aff52ae743b",
       "version_major": 2,
       "version_minor": 0
      },
      "text/plain": [
       "IntSlider(value=15000, max=50000)"
      ]
     },
     "metadata": {},
     "output_type": "display_data"
    },
    {
     "data": {
      "application/vnd.jupyter.widget-view+json": {
       "model_id": "e35334f5b31a45d5818dcc679f79cb7f",
       "version_major": 2,
       "version_minor": 0
      },
      "text/plain": [
       "Button(description='Assign', style=ButtonStyle())"
      ]
     },
     "metadata": {},
     "output_type": "display_data"
    },
    {
     "name": "stdout",
     "output_type": "stream",
     "text": [
      "Values modified!\n",
      "Values modified!\n",
      "Values modified!\n",
      "Values modified!\n"
     ]
    }
   ],
   "source": [
    "# Allow user to customize Hyperparameters\n",
    "f1 = widgets.FloatSlider(min=0,max=1,step=0.01,value=0.8)\n",
    "f2 = widgets.FloatSlider(min=0,max=1,step=0.01,value=0.95)\n",
    "f3 = widgets.FloatSlider(min=0,max=1,step=0.01,value=1)\n",
    "\n",
    "i1 = widgets.IntSlider(min=0,max=50000,step=1,value=15000)\n",
    "\n",
    "submit = widgets.Button(description=\"Assign\")\n",
    "\n",
    "# Create interraction\n",
    "print(\"Learning rate:\")\n",
    "display(f1)\n",
    "print(\"Gamma:\")\n",
    "display(f2)\n",
    "print(\"Epsilon, Eploration vs Exploitation ratio\")\n",
    "display(f3)\n",
    "print(\"Total Number of Episode:\")\n",
    "display(i1)\n",
    "\n",
    "display(submit)\n",
    "\n",
    "# Assign variable\n",
    "def on_button_click(b):\n",
    "    global totalEpisode, learningRate, gamma, epsilon\n",
    "    totalEpisode = i1.value\n",
    "    learningRate = f1.value\n",
    "    gamma = f2.value\n",
    "    epsilon = f3.value\n",
    "    print(\"Values modified!\")\n",
    "\n",
    "submit.on_click(on_button_click)"
   ]
  },
  {
   "cell_type": "markdown",
   "metadata": {},
   "source": [
    "Q-Learning algorithm <br>\n",
    "\n",
    "for Total number of episode: \n",
    "    1. Choose between\n",
    "        1.1 exploration: Do a random action\n",
    "        1.2 exploitation: take an action of the current state (s) based on Q-table value\n",
    "    2. Observe the outcome (s') and reward (r)\n",
    "    3. Update Q-table\n"
   ]
  },
  {
   "attachments": {
    "image.png": {
     "image/png": "[encoded data removed]"
    }
   },
   "cell_type": "markdown",
   "metadata": {},
   "source": [
    "![image.png](attachment:image.png)"
   ]
  },
  {
   "cell_type": "code",
   "execution_count": 80,
   "metadata": {
    "scrolled": true
   },
   "outputs": [
    {
     "name": "stdout",
     "output_type": "stream",
     "text": [
      "Score over time: 0.69832\n",
      "[[1.53197420e-01 3.18117538e-02 3.67722224e-02 3.64061268e-02]\n",
      " [7.12871362e-04 4.08835107e-05 3.48156174e-03 1.73558806e-01]\n",
      " [5.85026283e-04 3.89087379e-03 3.54587243e-04 1.73630977e-01]\n",
      " [9.97713815e-05 1.77802137e-03 2.74547523e-03 8.66588097e-02]\n",
      " [1.11137753e-01 3.15665953e-02 1.10577707e-02 4.14772472e-04]\n",
      " [2.98743693e-09 5.93875604e-09 3.11604904e-09 3.33262634e-09]\n",
      " [7.88325097e-02 3.61046336e-07 1.89291630e-07 5.85781441e-07]\n",
      " [0.00000000e+00 0.00000000e+00 0.00000000e+00 0.00000000e+00]\n",
      " [1.68838154e-03 1.00291285e-02 9.79469941e-04 5.52658741e-02]\n",
      " [4.46580567e-04 1.67610824e-01 3.40547103e-04 5.31040443e-03]\n",
      " [2.81317939e-03 5.49220777e-04 1.08007699e-05 1.26323802e-04]\n",
      " [0.00000000e+00 0.00000000e+00 0.00000000e+00 0.00000000e+00]\n",
      " [0.00000000e+00 0.00000000e+00 0.00000000e+00 0.00000000e+00]\n",
      " [2.40291776e-02 1.75754942e-02 2.97551656e-01 6.16915273e-04]\n",
      " [8.47288489e-02 8.61852165e-01 8.08606327e-02 6.78632714e-02]\n",
      " [0.00000000e+00 0.00000000e+00 0.00000000e+00 0.00000000e+00]]\n"
     ]
    }
   ],
   "source": [
    "# List of rewards\n",
    "rewards = []\n",
    "max_epsilon = 1.0             # Exploration probability at start\n",
    "min_epsilon = 0.0001            # Minimum exploration probability \n",
    "decay_rate = 0.005             # Exponential decay rate for exploration prob\n",
    "\n",
    "# 2 For life or until learning is stopped\n",
    "for episode in range(totalEpisode):\n",
    "    # Reset the environment\n",
    "    state = env.reset()\n",
    "    done = False\n",
    "    total_rewards = 0\n",
    "    notDone = True\n",
    "    \n",
    "    while notDone:\n",
    "\n",
    "        if (random.uniform(0,1)) > epsilon:\n",
    "            # Exploitation\n",
    "            action = np.argmax(Q[state,:])\n",
    "        else:\n",
    "            # Exploration\n",
    "            action = env.action_space.sample()\n",
    "            \n",
    "        # Get reward and observetion from performed action\n",
    "        new_state, reward, done, info = env.step(action)\n",
    "        \n",
    "        oldQ = Q[state, action]\n",
    "        nextStateMax = np.max(Q[new_state, :])\n",
    "        \n",
    "        # Update Q\n",
    "        Q[state, action] = (1 - learningRate) * oldQ + learningRate * (reward + gamma * nextStateMax)\n",
    "                              \n",
    "        total_rewards += reward\n",
    "        \n",
    "        # Our new state is state\n",
    "        state = new_state\n",
    "        \n",
    "        # If done (if we're dead) : finish episode\n",
    "        if done == True: \n",
    "            notDone = False\n",
    "        \n",
    "    # Reduce epsilon (because we need less and less exploration)\n",
    "    epsilon = min_epsilon + (max_epsilon - min_epsilon)*np.exp(-decay_rate*episode) \n",
    "    \n",
    "    rewards.append(total_rewards)\n",
    "    if i % 100 == 0:\n",
    "        clear_output(wait=True)\n",
    "        print(\"Episode: \",i)\n",
    "        \n",
    "print (\"Score over time: \" +  str(sum(rewards)/totalEpisode))\n",
    "print(Q)"
   ]
  },
  {
   "cell_type": "code",
   "execution_count": 81,
   "metadata": {
    "scrolled": true
   },
   "outputs": [
    {
     "data": {
      "text/plain": [
       "Text(0.5, 1.0, 'Rewards overs iterations')"
      ]
     },
     "execution_count": 81,
     "metadata": {},
     "output_type": "execute_result"
    },
    {
     "data": {
      "image/png": "[encoded data removed]",
      "text/plain": [
       "<Figure size 432x288 with 1 Axes>"
      ]
     },
     "metadata": {
      "needs_background": "light"
     },
     "output_type": "display_data"
    }
   ],
   "source": [
    "plt.plot(rewards[14000:15000],'+')\n",
    "plt.title(\"Rewards overs iterations\")"
   ]
  },
  {
   "cell_type": "markdown",
   "metadata": {},
   "source": [
    "We se that the more iteration we go though the more the agent is wining the game (reward=1)"
   ]
  },
  {
   "cell_type": "markdown",
   "metadata": {},
   "source": [
    "# Benchmark of our agent"
   ]
  },
  {
   "cell_type": "code",
   "execution_count": 88,
   "metadata": {
    "scrolled": false
   },
   "outputs": [
    {
     "name": "stdout",
     "output_type": "stream",
     "text": [
      "****************************************************\n",
      "EPISODE  0\n",
      "  (Down)\n",
      "SFFF\n",
      "FHFH\n",
      "FFFH\n",
      "HFF\u001b[41mG\u001b[0m\n",
      "Number of steps 32\n",
      "****************************************************\n",
      "EPISODE  1\n",
      "  (Left)\n",
      "SFFF\n",
      "F\u001b[41mH\u001b[0mFH\n",
      "FFFH\n",
      "HFFG\n",
      "Number of steps 52\n",
      "****************************************************\n",
      "EPISODE  2\n",
      "  (Left)\n",
      "SFFF\n",
      "F\u001b[41mH\u001b[0mFH\n",
      "FFFH\n",
      "HFFG\n",
      "Number of steps 56\n",
      "****************************************************\n",
      "EPISODE  3\n",
      "  (Down)\n",
      "SFFF\n",
      "FHFH\n",
      "FFFH\n",
      "HFF\u001b[41mG\u001b[0m\n",
      "Number of steps 8\n",
      "****************************************************\n",
      "EPISODE  4\n",
      "  (Down)\n",
      "SFFF\n",
      "FHFH\n",
      "FFFH\n",
      "HFF\u001b[41mG\u001b[0m\n",
      "Number of steps 12\n"
     ]
    }
   ],
   "source": [
    "env.reset()\n",
    "\n",
    "for episode in range(5):\n",
    "    state = env.reset()\n",
    "    step = 0\n",
    "    done = False\n",
    "    print(\"****************************************************\")\n",
    "    print(\"EPISODE \", episode)\n",
    "\n",
    "    for step in range(max_steps):\n",
    "        \n",
    "        # Take the action (index) that have the maximum expected future reward given that state\n",
    "        action = np.argmax(Q[state,:])\n",
    "        \n",
    "        new_state, reward, done, info = env.step(action)\n",
    "        \n",
    "        if done:\n",
    "            # Here, we decide to only print the last state (to see if our agent is on the goal or fall into an hole)\n",
    "            env.render()\n",
    "            \n",
    "            # We print the number of step it took.\n",
    "            print(\"Number of steps\", step)\n",
    "            break\n",
    "        state = new_state\n",
    "env.close()"
   ]
  },
  {
   "cell_type": "code",
   "execution_count": 67,
   "metadata": {},
   "outputs": [
    {
     "name": "stderr",
     "output_type": "stream",
     "text": [
      "[NbConvertApp] Converting notebook q-learning.ipynb to html\r\n",
      "[NbConvertApp] Writing 328831 bytes to q-learning.html\r\n"
     ]
    }
   ],
   "source": [
    "%%bash\n",
    "# TO HTML\n",
    "jupyter nbconvert --to html q-learning.ipynb"
   ]
  }
 ],
 "metadata": {
  "kernelspec": {
   "display_name": "Python 3",
   "language": "python",
   "name": "python3"
  },
  "language_info": {
   "codemirror_mode": {
    "name": "ipython",
    "version": 3
   },
   "file_extension": ".py",
   "mimetype": "text/x-python",
   "name": "python",
   "nbconvert_exporter": "python",
   "pygments_lexer": "ipython3",
   "version": "3.7.3"
  }
 },
 "nbformat": 4,
 "nbformat_minor": 2
}
